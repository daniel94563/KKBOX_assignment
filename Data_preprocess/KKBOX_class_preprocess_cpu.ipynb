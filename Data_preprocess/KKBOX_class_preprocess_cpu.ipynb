{
  "nbformat": 4,
  "nbformat_minor": 0,
  "metadata": {
    "colab": {
      "name": "KKBOX_class_preprocess_cpu.ipynb",
      "provenance": []
    },
    "kernelspec": {
      "name": "python3",
      "display_name": "Python 3"
    }
  },
  "cells": [
    {
      "cell_type": "markdown",
      "metadata": {
        "id": "5LEvXnbO85no"
      },
      "source": [
        "================================================================================================================\n",
        "\n",
        "\n",
        "Note that this notebook is just for comparing the speed with using the GPU, DON'T use it to preprocess the data\n",
        "\n",
        "================================================================================================================"
      ]
    },
    {
      "cell_type": "markdown",
      "metadata": {
        "id": "ne8mdF0PeMpJ"
      },
      "source": [
        "Install ckiptagger for word segmentation and opencc for s2t\n",
        "\n"
      ]
    },
    {
      "cell_type": "code",
      "metadata": {
        "id": "CDkd17HCXSav"
      },
      "source": [
        "pip install -U ckiptagger[tfgpu,gdown]"
      ],
      "execution_count": null,
      "outputs": []
    },
    {
      "cell_type": "code",
      "metadata": {
        "id": "jA6JelYRXYO8"
      },
      "source": [
        "pip install opencc-python-reimplemented"
      ],
      "execution_count": null,
      "outputs": []
    },
    {
      "cell_type": "code",
      "metadata": {
        "id": "r9UO_8VOXZaU"
      },
      "source": [
        "#mount gdrive and import packages\n",
        "import pandas as pd\n",
        "import numpy as np\n",
        "import re\n",
        "from opencc import OpenCC\n",
        "from ckiptagger import data_utils, construct_dictionary, WS, POS, NER\n",
        "\n",
        "from google.colab import drive\n",
        "import os\n",
        "drive.mount('/content/gdrive')\n"
      ],
      "execution_count": null,
      "outputs": []
    },
    {
      "cell_type": "markdown",
      "metadata": {
        "id": "mdBWBLjveU4k"
      },
      "source": [
        "Note that the ckiptagger 'ws' modules requires its pretrained model to segment the sentences, so we have to ensure that we've already obtained its pretrained weights. (If not, use `data_utils.download_data_gdown(\"./\") ` to download the model)\n",
        "\n",
        "For the purpose of saving time, i already upload those models in our gdrive."
      ]
    },
    {
      "cell_type": "code",
      "metadata": {
        "id": "UIWX_ee7Xc4p"
      },
      "source": [
        "#solving the environment with ckiptagger\n",
        "from ckiptagger import data_utils, construct_dictionary, WS, POS, NER\n",
        "#data_utils.download_data_gdown(\"./\") # gdrive-ckip\n",
        "#ws = WS(\"./data\")"
      ],
      "execution_count": null,
      "outputs": []
    },
    {
      "cell_type": "markdown",
      "metadata": {
        "id": "V3FunCJqeIGJ"
      },
      "source": [
        "Load the WS pretrained model\n"
      ]
    },
    {
      "cell_type": "code",
      "metadata": {
        "id": "w9t-l53TXr6I"
      },
      "source": [
        "ws=WS(\"/content/gdrive/My Drive/data\")"
      ],
      "execution_count": null,
      "outputs": []
    },
    {
      "cell_type": "markdown",
      "metadata": {
        "id": "DzMblZFSgVCS"
      },
      "source": [
        "Here we use re to compile all the contents, and preserve only Chinese character.\n",
        "\n",
        "Second, we transform all the Chinese characters from simplified Chinese to traditional Chinese.\n",
        "\n",
        "And finally we find all the empty valuse and drop its column."
      ]
    },
    {
      "cell_type": "code",
      "metadata": {
        "id": "XvkknMzqXvQn"
      },
      "source": [
        "review=pd.read_json('/content/gdrive/My Drive/Colab Notebooks/Dataset/Original_data/reviews.json')\n",
        "\n",
        "cc = OpenCC('s2t')\n",
        "for i in range(len(review)):\n",
        "\n",
        "  tmp=review['content'][i].replace('\\n', '')\n",
        "  cop=re.compile(\"[^\\u4e00-\\u9fa5]\")\n",
        "  review.loc[review.content==review['content'][i],'content']=cop.sub('',tmp)\n",
        "  review.loc[review.content==review['content'][i],'content']=cc.convert(review['content'][i])\n",
        "  if review['content'][i].strip()=='':\n",
        "    review=review.drop(index=i)\n"
      ],
      "execution_count": null,
      "outputs": []
    },
    {
      "cell_type": "markdown",
      "metadata": {
        "id": "mN773E6Dh2nw"
      },
      "source": [
        "After dropping the columns, reindex the dataframe."
      ]
    },
    {
      "cell_type": "code",
      "metadata": {
        "id": "Ts-zuezxXyIE"
      },
      "source": [
        "review=review.reset_index(drop=True)"
      ],
      "execution_count": null,
      "outputs": []
    },
    {
      "cell_type": "markdown",
      "metadata": {
        "id": "eUV9rF0wiFEF"
      },
      "source": [
        "After segmenting the sentence, we can get each word in a sentence separately,\n",
        "\n",
        "\n",
        "reconstruct them into a sentence using space to separate.\n",
        "\n",
        "\n",
        "\n"
      ]
    },
    {
      "cell_type": "code",
      "metadata": {
        "id": "3m79WP7BX0tJ",
        "outputId": "0b738470-48c8-4a35-eef4-d40f4d5b2e00",
        "colab": {
          "base_uri": "https://localhost:8080/",
          "height": 34
        }
      },
      "source": [
        "import time\n",
        "\n",
        "\n",
        "#to check if gpu is necessary\n",
        "start_time = time.time()\n",
        "\n",
        "#segment the corpus\n",
        "tmp_corpus=ws(review['content'])\n",
        "cut_corpus=[]\n",
        "for j in tmp_corpus:\n",
        "  cut_corpus.append(' '.join(j))\n",
        "\n",
        "for k in range(len(review)):\n",
        "  review.loc[review.content==review['content'][k],'content']=cut_corpus[k]\n",
        "\n",
        "print(\"My program took\",time.time() - start_time, \"seconds to run on cpu\")\n"
      ],
      "execution_count": null,
      "outputs": [
        {
          "output_type": "stream",
          "text": [
            "My program took 45.87398886680603 seconds to run on cpu\n"
          ],
          "name": "stdout"
        }
      ]
    },
    {
      "cell_type": "markdown",
      "metadata": {
        "id": "a9lIbvnOjnYK"
      },
      "source": [
        "Save the final result."
      ]
    },
    {
      "cell_type": "code",
      "metadata": {
        "id": "qKzt3z4GYhDC"
      },
      "source": [
        "review.to_csv('/content/gdrive/My Drive/Colab Notebooks/reviews_cut.csv',encoding='utf-8',index=False)"
      ],
      "execution_count": null,
      "outputs": []
    }
  ]
}