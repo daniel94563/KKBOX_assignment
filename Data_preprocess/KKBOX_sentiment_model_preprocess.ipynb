{
  "nbformat": 4,
  "nbformat_minor": 0,
  "metadata": {
    "colab": {
      "name": "KKBOX_jieba_sentiment_preprocess.ipynb",
      "provenance": [],
      "collapsed_sections": []
    },
    "kernelspec": {
      "name": "python3",
      "display_name": "Python 3"
    },
    "accelerator": "GPU"
  },
  "cells": [
    {
      "cell_type": "code",
      "metadata": {
        "id": "dMueetVvsh4o"
      },
      "source": [
        "pip install -U ckiptagger[tfgpu,gdown]"
      ],
      "execution_count": null,
      "outputs": []
    },
    {
      "cell_type": "code",
      "metadata": {
        "id": "7srv98X93ilE"
      },
      "source": [
        "pip install opencc-python-reimplemented"
      ],
      "execution_count": null,
      "outputs": []
    },
    {
      "cell_type": "code",
      "metadata": {
        "id": "XQ2t_2kXp4c_",
        "outputId": "1b5d912b-3d1e-4384-9bc4-825d905f0e06",
        "colab": {
          "base_uri": "https://localhost:8080/",
          "height": 34
        }
      },
      "source": [
        "#mount gdrive\n",
        "from google.colab import drive\n",
        "import os\n",
        "drive.mount('/content/gdrive')"
      ],
      "execution_count": null,
      "outputs": [
        {
          "output_type": "stream",
          "text": [
            "Mounted at /content/gdrive\n"
          ],
          "name": "stdout"
        }
      ]
    },
    {
      "cell_type": "code",
      "metadata": {
        "id": "f6ilE6vcsmCH"
      },
      "source": [
        "#solving the environment with ckiptagger\n",
        "from ckiptagger import data_utils, construct_dictionary, WS, POS, NER\n",
        "import pandas as pd\n",
        "import numpy as np\n",
        "import re\n",
        "from opencc import OpenCC\n",
        "ws=WS(\"/content/gdrive/My Drive/data\", disable_cuda=False)"
      ],
      "execution_count": null,
      "outputs": []
    },
    {
      "cell_type": "code",
      "metadata": {
        "id": "_N6eOptFqFKC"
      },
      "source": [
        "review=pd.read_json('/content/gdrive/My Drive/Colab Notebooks/Dataset/Original_dataset/reviews.json')\n",
        "\n",
        "pos_table = pd.read_excel('/content/gdrive/My Drive/Colab Notebooks/Data_preprocess/External_resource/pos_table.xlsx',sheet_name='Sheet1')\n",
        "neg_table = pd.read_excel('/content/gdrive/My Drive/Colab Notebooks/Data_preprocess/External_resource/neg_table.xlsx',sheet_name='Sheet1')"
      ],
      "execution_count": null,
      "outputs": []
    },
    {
      "cell_type": "code",
      "metadata": {
        "id": "hR3zhIgpwUqf"
      },
      "source": [
        "for i in range(len(review)):\n",
        "  tmp=review['content'][i].replace('\\n', '')\n",
        "  cop=re.compile(\"[^\\u4e00-\\u9fa5]\")\n",
        "  cc = OpenCC('s2t')\n",
        "  review.loc[review.content==review['content'][i], 'content'] =cc.convert(cop.sub('', tmp))\n",
        "  if review['content'][i].strip()=='':\n",
        "    review=review.drop(index=i)\n",
        "\n",
        "review=review.reset_index(drop=True)"
      ],
      "execution_count": null,
      "outputs": []
    },
    {
      "cell_type": "markdown",
      "metadata": {
        "id": "xwkonfXU6RAK"
      },
      "source": [
        "Here I merge two dict. in one, and for the neg_dict, i time it with -1 to make it <0 that denotes the negative sentiment score"
      ]
    },
    {
      "cell_type": "code",
      "metadata": {
        "id": "-2z0OBs0q3BK"
      },
      "source": [
        "pos_dict = dict(zip(list(pos_table.posword),list(pos_table.score)))\n",
        "neg_dict = dict(zip(list(neg_table.negword),map(lambda a:a*(0-1),list(neg_table.score)) ))\n",
        "sentiment_dict={**pos_dict,**neg_dict}"
      ],
      "execution_count": null,
      "outputs": []
    },
    {
      "cell_type": "markdown",
      "metadata": {
        "id": "g6IFERP76nOH"
      },
      "source": [
        "Here i also store the original content and segment content for the use of calculating sentiment score later."
      ]
    },
    {
      "cell_type": "code",
      "metadata": {
        "id": "n1FqQ1SU26nJ"
      },
      "source": [
        "review['original_content']=''\n",
        "review['segment_content']=''\n",
        "\n",
        "tmp_corpus=[]\n",
        "for i in range(len(review)):\n",
        "  tmp_corpus.append(review['content'][i])\n",
        "tmp_corpus=ws(tmp_corpus)\n",
        "\n",
        "cut_corpus=[]\n",
        "for j in tmp_corpus:\n",
        "  cut_corpus.append(' '.join(j))\n",
        "\n",
        "for k in range(len(review)):\n",
        "  review.at[k,'original_content']=review['content'][k]\n",
        "  review.at[k,'segment_content']=ws([review['content'][k]])\n",
        "  review.at[k,'content']=cut_corpus[k]"
      ],
      "execution_count": null,
      "outputs": []
    },
    {
      "cell_type": "markdown",
      "metadata": {
        "id": "u3DSp0i76-VT"
      },
      "source": [
        "The sentiment score is calculated as the following step\n",
        "\n",
        "\n",
        "```\n",
        "# first cut the sentence into segments\n",
        "# second, if the token exists in the sentiment dict. , add the score with its corresponding score, and record the count of word exists simultaneously.\n",
        "# finally, return (score/countword)/9 as the review's sentiment score.\n",
        "# (9 is the highest score above all, and i devide it to regularize the score between the bound [1,-1])\n",
        "```\n",
        "\n"
      ]
    },
    {
      "cell_type": "code",
      "metadata": {
        "id": "tRch2B-ZvlVS"
      },
      "source": [
        "def get_sentiment(sent):\n",
        "  tokens = ws([sent])\n",
        "  score=0\n",
        "  countword=0\n",
        "\n",
        "  for w in range(len(tokens[0])):\n",
        "    if tokens[0][w] in sentiment_dict:\n",
        "      score+=sentiment_dict[tokens[0][w]]\n",
        "      countword+=1\n",
        "  if countword!=0:\n",
        "    return (score/countword)/9\n",
        "  else:\n",
        "    return 0\n",
        "  \n"
      ],
      "execution_count": null,
      "outputs": []
    },
    {
      "cell_type": "code",
      "metadata": {
        "id": "VbVMXqk_HEtl"
      },
      "source": [
        "review['sentiment']=0\n",
        "for i in range(len(review)):\n",
        "  review.at[i,'sentiment']=get_sentiment(review['original_content'][i])"
      ],
      "execution_count": null,
      "outputs": []
    },
    {
      "cell_type": "code",
      "metadata": {
        "id": "ggOL_iae3nGi"
      },
      "source": [
        "review.to_csv('/content/gdrive/My Drive/Colab Notebooks/Dataset/Output_dataset/review_w_sentiment.csv',encoding='utf-8',index=False)"
      ],
      "execution_count": null,
      "outputs": []
    }
  ]
}