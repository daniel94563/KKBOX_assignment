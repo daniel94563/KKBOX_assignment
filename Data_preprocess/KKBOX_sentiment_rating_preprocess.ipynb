{
  "nbformat": 4,
  "nbformat_minor": 0,
  "metadata": {
    "colab": {
      "name": "KKBOX_sentiment_rating_preprocess.ipynb",
      "provenance": []
    },
    "kernelspec": {
      "name": "python3",
      "display_name": "Python 3"
    },
    "accelerator": "GPU"
  },
  "cells": [
    {
      "cell_type": "markdown",
      "metadata": {
        "id": "MuHxC8aCjv-9"
      },
      "source": [
        "Install ckiptagger for word segmentation and opencc for s2t\n",
        "\n"
      ]
    },
    {
      "cell_type": "code",
      "metadata": {
        "id": "oIopMp8KOCKu"
      },
      "source": [
        "pip install -U ckiptagger[tfgpu,gdown]"
      ],
      "execution_count": null,
      "outputs": []
    },
    {
      "cell_type": "code",
      "metadata": {
        "id": "h8vh2nHAGCzn"
      },
      "source": [
        "pip install opencc-python-reimplemented"
      ],
      "execution_count": null,
      "outputs": []
    },
    {
      "cell_type": "markdown",
      "metadata": {
        "id": "FrEhLwOhkEOL"
      },
      "source": [
        "import packages and mount gdrive to get access to our data."
      ]
    },
    {
      "cell_type": "code",
      "metadata": {
        "id": "h3m_nldVF6_1",
        "outputId": "64174cfc-88d6-4664-b36f-74bf1ef73868",
        "colab": {
          "base_uri": "https://localhost:8080/",
          "height": 34
        }
      },
      "source": [
        "#mount gdrive and import packages\n",
        "import pandas as pd\n",
        "import numpy as np\n",
        "import re\n",
        "from opencc import OpenCC\n",
        "from ckiptagger import data_utils, construct_dictionary, WS, POS, NER\n",
        "\n",
        "from google.colab import drive\n",
        "import os\n",
        "drive.mount('/content/gdrive')"
      ],
      "execution_count": 3,
      "outputs": [
        {
          "output_type": "stream",
          "text": [
            "Mounted at /content/gdrive\n"
          ],
          "name": "stdout"
        }
      ]
    },
    {
      "cell_type": "markdown",
      "metadata": {
        "id": "bbU6bC8zj0jO"
      },
      "source": [
        "Note that the ckiptagger 'ws' modules requires its pretrained model to segment the sentences, so we have to ensure that we've already obtained its pretrained weights. (If not, use `data_utils.download_data_gdown(\"./\") ` to download the model)\n",
        "\n",
        "For the purpose of saving time, i already upload those models in our gdrive."
      ]
    },
    {
      "cell_type": "code",
      "metadata": {
        "id": "bHGX0KXIPclV"
      },
      "source": [
        "#solving the environment with ckiptagger\n",
        "from ckiptagger import data_utils, construct_dictionary, WS, POS, NER"
      ],
      "execution_count": 4,
      "outputs": []
    },
    {
      "cell_type": "markdown",
      "metadata": {
        "id": "9FULghcxj8uk"
      },
      "source": [
        "Load the WS pretrained model (using gpu mode)"
      ]
    },
    {
      "cell_type": "code",
      "metadata": {
        "id": "o7VLC3kpUgY5"
      },
      "source": [
        "os.environ[\"CUDA_VISIBLE_DEVICES\"] = \"0\"\n",
        "#the WS module is alreday downloaded (in this project,I place it at my gdrive), if you havn't downloaded, use data utils.to download, also change the dir of WS\n",
        "#data_utils.download_data_gdown(\"./\") # gdrive-ckip\n",
        "#ws = WS(\"./data\")\n",
        "ws=WS(\"/content/gdrive/My Drive/data\", disable_cuda=False)"
      ],
      "execution_count": 6,
      "outputs": []
    },
    {
      "cell_type": "markdown",
      "metadata": {
        "id": "GuOWivB2kTsj"
      },
      "source": [
        "Here we use re to compile all the contents, and preserve only Chinese character.\n",
        "\n",
        "Second, we transform all the Chinese characters from simplified Chinese to traditional Chinese.\n",
        "\n",
        "And finally we find all the empty valuse and drop its column."
      ]
    },
    {
      "cell_type": "code",
      "metadata": {
        "id": "iglJX6ldP3c5"
      },
      "source": [
        "review=pd.read_json('/content/gdrive/My Drive/Colab Notebooks/Dataset/Original_dataset/reviews.json')\n",
        "\n",
        "cc = OpenCC('s2t')\n",
        "for i in range(len(review)):\n",
        "\n",
        "  tmp=review['content'][i].replace('\\n', '')\n",
        "  cop=re.compile(\"[^\\u4e00-\\u9fa5]\")\n",
        "  review.loc[review.content==review['content'][i],'content']=cop.sub('',tmp)\n",
        "  review.loc[review.content==review['content'][i],'content']=cc.convert(review['content'][i])\n",
        "  if review['content'][i].strip()=='':\n",
        "    review=review.drop(index=i)\n"
      ],
      "execution_count": null,
      "outputs": []
    },
    {
      "cell_type": "markdown",
      "metadata": {
        "id": "qTSCLIi4kgMN"
      },
      "source": [
        "After dropping the columns, reindex the dataframe."
      ]
    },
    {
      "cell_type": "code",
      "metadata": {
        "id": "GPzK4vVXp3n_"
      },
      "source": [
        "review=review.reset_index(drop=True)"
      ],
      "execution_count": null,
      "outputs": []
    },
    {
      "cell_type": "markdown",
      "metadata": {
        "id": "oQAZAEo7kdfG"
      },
      "source": [
        "After segmenting the sentence, we can get each word in a sentence separately,\n",
        "\n",
        "\n",
        "reconstruct them into a sentence using space to separate.\n",
        "\n",
        "Here we also set a timer to measure if GPU acceleration is needed (in comparison with running on only CPU itself)\n",
        "\n"
      ]
    },
    {
      "cell_type": "code",
      "metadata": {
        "id": "PS4M7iHgq3DX",
        "outputId": "c4137c6d-cc33-4961-e081-df3cdeffa0cb",
        "colab": {
          "base_uri": "https://localhost:8080/",
          "height": 34
        }
      },
      "source": [
        "import time\n",
        "#to check if gpu is necessary\n",
        "start_time = time.time()\n",
        "\n",
        "\n",
        "#cut the corpus\n",
        "tmp_corpus=ws(review['content'])\n",
        "cut_corpus=[]\n",
        "for j in tmp_corpus:\n",
        "  cut_corpus.append(' '.join(j))\n",
        "\n",
        "for k in range(len(review)):\n",
        "  review.loc[review.content==review['content'][k],'content']=cut_corpus[k]\n",
        "\n",
        "print(\"My program took\",time.time() - start_time, \"seconds to run on gpu\")\n"
      ],
      "execution_count": null,
      "outputs": [
        {
          "output_type": "stream",
          "text": [
            "My program took 5.933941602706909 seconds to run on gpu\n"
          ],
          "name": "stdout"
        }
      ]
    },
    {
      "cell_type": "markdown",
      "metadata": {
        "id": "yHXCJ6aVk_54"
      },
      "source": [
        "See how well the ws performs."
      ]
    },
    {
      "cell_type": "code",
      "metadata": {
        "id": "um8hmwFirhge",
        "outputId": "b9d0b7aa-9162-4b89-bfc9-012efddd53bb",
        "colab": {
          "base_uri": "https://localhost:8080/",
          "height": 35
        }
      },
      "source": [
        "review['content'][0]"
      ],
      "execution_count": null,
      "outputs": [
        {
          "output_type": "execute_result",
          "data": {
            "application/vnd.google.colaboratory.intrinsic+json": {
              "type": "string"
            },
            "text/plain": [
              "'播 歌 給 手機 聽 讓 它 找出 歌曲 來 很 好 雖然 都 可以 辨識出 歌曲 但 有些 歌曲 沒有 收錄 喔 原來 是 這樣 我 知道 了'"
            ]
          },
          "metadata": {
            "tags": []
          },
          "execution_count": 27
        }
      ]
    },
    {
      "cell_type": "markdown",
      "metadata": {
        "id": "TmNIfYKClotk"
      },
      "source": [
        "Compress the rating into [1,-1]"
      ]
    },
    {
      "cell_type": "code",
      "metadata": {
        "id": "vQuCu5AO603v",
        "outputId": "65714812-a753-46dd-a3f4-a689773a4cfe",
        "colab": {
          "base_uri": "https://localhost:8080/",
          "height": 204
        }
      },
      "source": [
        "\n",
        "rating_dict={1:-1,2:-0.5,3:0,4:0.5,5:1}\n",
        "review.loc[review.rating==1, 'rating'] = rating_dict[1]\n",
        "review.loc[review.rating==2, 'rating'] = rating_dict[2]\n",
        "review.loc[review.rating==3, 'rating'] = rating_dict[3]\n",
        "review.loc[review.rating==4, 'rating'] = rating_dict[4]\n",
        "review.loc[review.rating==5, 'rating'] = rating_dict[5]\n",
        "\n",
        "review.head()\n"
      ],
      "execution_count": null,
      "outputs": [
        {
          "output_type": "execute_result",
          "data": {
            "text/html": [
              "<div>\n",
              "<style scoped>\n",
              "    .dataframe tbody tr th:only-of-type {\n",
              "        vertical-align: middle;\n",
              "    }\n",
              "\n",
              "    .dataframe tbody tr th {\n",
              "        vertical-align: top;\n",
              "    }\n",
              "\n",
              "    .dataframe thead th {\n",
              "        text-align: right;\n",
              "    }\n",
              "</style>\n",
              "<table border=\"1\" class=\"dataframe\">\n",
              "  <thead>\n",
              "    <tr style=\"text-align: right;\">\n",
              "      <th></th>\n",
              "      <th>content</th>\n",
              "      <th>rating</th>\n",
              "    </tr>\n",
              "  </thead>\n",
              "  <tbody>\n",
              "    <tr>\n",
              "      <th>0</th>\n",
              "      <td>播 歌 給 手機 聽 讓 它 找出 歌曲 來 很 好 雖然 都 可以 辨識出 歌曲 但 有些...</td>\n",
              "      <td>1.0</td>\n",
              "    </tr>\n",
              "    <tr>\n",
              "      <th>1</th>\n",
              "      <td>暢順 好聽</td>\n",
              "      <td>1.0</td>\n",
              "    </tr>\n",
              "    <tr>\n",
              "      <th>2</th>\n",
              "      <td>不錯</td>\n",
              "      <td>1.0</td>\n",
              "    </tr>\n",
              "    <tr>\n",
              "      <th>3</th>\n",
              "      <td>很 不錯 的 大部分 原唱 基本 都 有 還可以 免費 試聽 下載 良心 軟件 了</td>\n",
              "      <td>1.0</td>\n",
              "    </tr>\n",
              "    <tr>\n",
              "      <th>4</th>\n",
              "      <td>剛剛 安裝 就 要 問 祖先 十八 代 真是 夠 了 乾脆 解除 安裝 並且 把 它 廣泛 宣傳</td>\n",
              "      <td>-1.0</td>\n",
              "    </tr>\n",
              "  </tbody>\n",
              "</table>\n",
              "</div>"
            ],
            "text/plain": [
              "                                             content  rating\n",
              "0  播 歌 給 手機 聽 讓 它 找出 歌曲 來 很 好 雖然 都 可以 辨識出 歌曲 但 有些...     1.0\n",
              "1                                              暢順 好聽     1.0\n",
              "2                                                 不錯     1.0\n",
              "3          很 不錯 的 大部分 原唱 基本 都 有 還可以 免費 試聽 下載 良心 軟件 了     1.0\n",
              "4   剛剛 安裝 就 要 問 祖先 十八 代 真是 夠 了 乾脆 解除 安裝 並且 把 它 廣泛 宣傳    -1.0"
            ]
          },
          "metadata": {
            "tags": []
          },
          "execution_count": 28
        }
      ]
    },
    {
      "cell_type": "markdown",
      "metadata": {
        "id": "Tjsrp6MRmfOZ"
      },
      "source": [
        "Now we get data preprocess done, save the processed data (either in .json or .csv is fine)."
      ]
    },
    {
      "cell_type": "code",
      "metadata": {
        "id": "PSAPYWtS6wl8"
      },
      "source": [
        "review.to_csv('/content/gdrive/My Drive/Colab Notebooks/Dataset/Output_dataset/reviews_w_compress_rating.csv',encoding='utf-8',index=False)"
      ],
      "execution_count": null,
      "outputs": []
    }
  ]
}